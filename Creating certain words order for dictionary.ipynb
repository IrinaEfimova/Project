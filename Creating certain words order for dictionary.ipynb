{
 "cells": [
  {
   "cell_type": "code",
   "execution_count": 38,
   "metadata": {
    "collapsed": false
   },
   "outputs": [
    {
     "name": "stdout",
     "output_type": "stream",
     "text": [
      "0.8.1\n"
     ]
    }
   ],
   "source": [
    "%matplotlib inline\n",
    "import numpy as np\n",
    "import glob\n",
    "import os\n",
    "import matplotlib.pyplot as plt\n",
    "import pandas as pd\n",
    "import codecs\n",
    "from math import *\n",
    "import time\n",
    "\n",
    "import artm\n",
    "from hierarchy_utils import hARTM\n",
    "print artm.version()"
   ]
  },
  {
   "cell_type": "code",
   "execution_count": 39,
   "metadata": {
    "collapsed": true
   },
   "outputs": [],
   "source": [
    "data_file_fold = '../data/UCI_collections/UCI_trimmed_new/'\n",
    "data_file_voc_name = 'vocab.pn.txt'\n",
    "data_file_doc_name = 'docword.pn.txt'\n",
    "data_file_voc = data_file_fold+data_file_voc_name\n",
    "data_file_doc = data_file_fold+data_file_doc_name\n",
    "\n",
    "results_fold = '../results/'\n",
    "save_file_name = 'vocab_new.txt'\n",
    "save_file = results_fold+save_file_name"
   ]
  },
  {
   "cell_type": "code",
   "execution_count": 40,
   "metadata": {
    "collapsed": true
   },
   "outputs": [],
   "source": [
    "post_tag_level0 = [u'математика',\n",
    "                   u'технологии',\n",
    "                   u'физика',\n",
    "                   u'химия',\n",
    "                   u'земля',\n",
    "                   u'астрономия',\n",
    "                   u'биология',\n",
    "                   u'медицина',\n",
    "                   u'психология',\n",
    "                   u'экономика',\n",
    "                   u'история',\n",
    "                   u'политика',\n",
    "                   u'социология',\n",
    "                   u'культура',\n",
    "                   u'образование',\n",
    "                   u'язык',\n",
    "                   u'философия',\n",
    "                   u'религия',\n",
    "                   u'россия']"
   ]
  },
  {
   "cell_type": "code",
   "execution_count": 41,
   "metadata": {
    "collapsed": false
   },
   "outputs": [
    {
     "name": "stdout",
     "output_type": "stream",
     "text": [
      "образование\n",
      "математика\n",
      "культура\n",
      "социология\n",
      "язык\n",
      "медицина\n",
      "биология\n",
      "россия\n",
      "технологии\n",
      "физика\n",
      "химия\n",
      "астрономия\n",
      "земля\n",
      "история\n",
      "религия\n",
      "экономика\n",
      "философия\n",
      "психология\n",
      "политика\n"
     ]
    }
   ],
   "source": [
    "word = []\n",
    "bigramm = []\n",
    "threegramm = []\n",
    "fourgramm = []\n",
    "fivegramm = []\n",
    "sixgramm = []\n",
    "post_tag = []\n",
    "author = []\n",
    "category = []\n",
    "projects = []\n",
    "i = 0\n",
    "\n",
    "with codecs.open(data_file_voc, 'r', 'utf-8') as fin:\n",
    "    for line_idx, line in enumerate(fin):\n",
    "        i += 1\n",
    "        row = line.strip('\\n').split(' ')\n",
    "        if row[1] == 'word':\n",
    "            word.append(row[0])\n",
    "        elif row[1] == '2gramm':\n",
    "            bigramm.append(row[0])\n",
    "        elif row[1] == '3gramm':\n",
    "            threegramm.append(row[0])\n",
    "        elif row[1] == '4gramm':\n",
    "            fourgramm.append(row[0])\n",
    "        elif row[1] == '5gramm':\n",
    "            fivegramm.append(row[0])\n",
    "        elif row[1] == '6gramm':\n",
    "            sixgramm.append(row[0])\n",
    "        elif row[1] == 'post_tag':\n",
    "            if row[0] in post_tag_level0:\n",
    "                print row[0]\n",
    "                continue\n",
    "            post_tag.append(row[0])\n",
    "        elif row[1] == 'author':\n",
    "            author.append(row[0])\n",
    "        elif row[1] == 'category':\n",
    "            category.append(row[0])\n",
    "        elif row[1] == 'projects':\n",
    "            projects.append(row[0])"
   ]
  },
  {
   "cell_type": "code",
   "execution_count": 42,
   "metadata": {
    "collapsed": false
   },
   "outputs": [
    {
     "name": "stdout",
     "output_type": "stream",
     "text": [
      "33486\n",
      "Size of vocabulary: 33486 -- must be 33486\n"
     ]
    }
   ],
   "source": [
    "print i\n",
    "print 'Size of vocabulary: {} -- must be 33486'.format(19+len(word)+len(bigramm)+len(threegramm)+len(fourgramm)+len(fivegramm)+len(sixgramm)+len(post_tag)+len(author)+len(category)+len(projects)) "
   ]
  },
  {
   "cell_type": "code",
   "execution_count": 43,
   "metadata": {
    "collapsed": false
   },
   "outputs": [
    {
     "name": "stdout",
     "output_type": "stream",
     "text": [
      "911\n"
     ]
    }
   ],
   "source": [
    "print len(post_tag)"
   ]
  },
  {
   "cell_type": "code",
   "execution_count": 44,
   "metadata": {
    "collapsed": false
   },
   "outputs": [],
   "source": [
    "ngramm = word\n",
    "with codecs.open(save_file, 'w', 'utf-8') as fout:\n",
    "    for word in ngramm:\n",
    "        fout.write(u'{} word\\n'.format(word))\n",
    "    for word in post_tag_level0:\n",
    "        fout.write(u'{} post_tag\\n'.format(word))\n",
    "    for word in post_tag:\n",
    "        fout.write(u'{} post_tag\\n'.format(word))\n",
    "    for word in bigramm:\n",
    "        fout.write(u'{} 2gramm\\n'.format(word))\n",
    "    for word in threegramm:\n",
    "        fout.write(u'{} 3gramm\\n'.format(word))\n",
    "    for word in fourgramm:\n",
    "        fout.write(u'{} 4gramm\\n'.format(word))\n",
    "    for word in author:\n",
    "        fout.write(u'{} author\\n'.format(word))\n",
    "    for word in fivegramm:\n",
    "        fout.write(u'{} 5gramm\\n'.format(word))\n",
    "    for word in sixgramm:\n",
    "        fout.write(u'{} 6gramm\\n'.format(word))\n",
    "    for word in projects:\n",
    "        fout.write(u'{} projects\\n'.format(word))\n",
    "    for word in category:\n",
    "        fout.write(u'{} category\\n'.format(word))"
   ]
  },
  {
   "cell_type": "code",
   "execution_count": 49,
   "metadata": {
    "collapsed": false
   },
   "outputs": [
    {
     "name": "stdout",
     "output_type": "stream",
     "text": [
      "20117\n"
     ]
    }
   ],
   "source": [
    "print len(ngramm)+len(post_tag_level0)+len(post_tag)"
   ]
  },
  {
   "cell_type": "markdown",
   "metadata": {},
   "source": [
    "Номера post_tag_level0: 19187--19205"
   ]
  },
  {
   "cell_type": "code",
   "execution_count": null,
   "metadata": {
    "collapsed": true
   },
   "outputs": [],
   "source": []
  }
 ],
 "metadata": {
  "kernelspec": {
   "display_name": "Python 2",
   "language": "python",
   "name": "python2"
  },
  "language_info": {
   "codemirror_mode": {
    "name": "ipython",
    "version": 2
   },
   "file_extension": ".py",
   "mimetype": "text/x-python",
   "name": "python",
   "nbconvert_exporter": "python",
   "pygments_lexer": "ipython2",
   "version": "2.7.11"
  }
 },
 "nbformat": 4,
 "nbformat_minor": 0
}
